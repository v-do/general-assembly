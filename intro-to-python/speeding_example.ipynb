{
 "cells": [
  {
   "cell_type": "code",
   "execution_count": null,
   "metadata": {},
   "outputs": [],
   "source": [
    "import pandas as pd\n",
    "data_frame = pd.read_csv(\"https://vincentarelbundock.github.io/Rdatasets/csv/boot/amis.csv\", usecols=range(1, 5))"
   ]
  },
  {
   "cell_type": "code",
   "execution_count": null,
   "metadata": {},
   "outputs": [],
   "source": [
    "before = []\n",
    "after = []\n",
    "\n",
    "for row in data_frame.values:\n",
    "    if row[3] == 7:\n",
    "        if row[2] == 1:\n",
    "            if row[1] == 1:\n",
    "                before.append(row[0])\n",
    "            if row[1] == 3:\n",
    "                after.append(row[0])\n",
    "\n",
    "print(\"average before sign: \", sum(before)/len(before))\n",
    "print(\"average after sign: \", sum(after)/len(after))"
   ]
  },
  {
   "cell_type": "code",
   "execution_count": null,
   "metadata": {},
   "outputs": [],
   "source": []
  }
 ],
 "metadata": {
  "kernelspec": {
   "display_name": "Python 3",
   "language": "python",
   "name": "python3"
  },
  "language_info": {
   "codemirror_mode": {
    "name": "ipython",
    "version": 3
   },
   "file_extension": ".py",
   "mimetype": "text/x-python",
   "name": "python",
   "nbconvert_exporter": "python",
   "pygments_lexer": "ipython3",
   "version": "3.7.3"
  }
 },
 "nbformat": 4,
 "nbformat_minor": 2
}
