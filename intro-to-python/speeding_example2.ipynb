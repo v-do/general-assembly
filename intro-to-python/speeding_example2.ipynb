{
 "cells": [
  {
   "cell_type": "code",
   "execution_count": null,
   "metadata": {},
   "outputs": [],
   "source": [
    "import numpy as np\n",
    "import pandas as pd\n",
    "df = pd.read_csv(\"https://vincentarelbundock.github.io/Rdatasets/csv/boot/amis.csv\", usecols=range(1, 5))"
   ]
  },
  {
   "cell_type": "code",
   "execution_count": null,
   "metadata": {},
   "outputs": [],
   "source": [
    "location_mask = (df[\"pair\"] == 7) & (df[\"warning\"] == 1)\n",
    "before_mask = location_mask & (df[\"period\"] == 1)\n",
    "after_mask = location_mask & (df[\"period\"] == 3)\n",
    "\n",
    "before = df[before_mask][\"speed\"]\n",
    "after = df[after_mask][\"speed\"]\n",
    "\n",
    "print(\"average before sign: \", np.mean(before))\n",
    "print(\"average after sign: \", np.mean(after))"
   ]
  },
  {
   "cell_type": "code",
   "execution_count": null,
   "metadata": {},
   "outputs": [],
   "source": []
  }
 ],
 "metadata": {
  "kernelspec": {
   "display_name": "Python 3",
   "language": "python",
   "name": "python3"
  },
  "language_info": {
   "codemirror_mode": {
    "name": "ipython",
    "version": 3
   },
   "file_extension": ".py",
   "mimetype": "text/x-python",
   "name": "python",
   "nbconvert_exporter": "python",
   "pygments_lexer": "ipython3",
   "version": "3.7.3"
  }
 },
 "nbformat": 4,
 "nbformat_minor": 2
}
